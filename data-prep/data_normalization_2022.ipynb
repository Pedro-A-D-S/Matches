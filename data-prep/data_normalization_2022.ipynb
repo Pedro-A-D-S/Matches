{
 "cells": [
  {
   "attachments": {},
   "cell_type": "markdown",
   "metadata": {},
   "source": [
    "# Imports"
   ]
  },
  {
   "cell_type": "code",
   "execution_count": 23,
   "metadata": {},
   "outputs": [],
   "source": [
    "import pandas as pd\n",
    "import numpy as np\n",
    "\n",
    "import yaml\n",
    "import os"
   ]
  },
  {
   "attachments": {},
   "cell_type": "markdown",
   "metadata": {},
   "source": [
    "# SetUp"
   ]
  },
  {
   "cell_type": "code",
   "execution_count": 24,
   "metadata": {},
   "outputs": [],
   "source": [
    "pd.set_option('display.max_rows', 500)\n",
    "pd.set_option('display.max_columns', 500)\n",
    "pd.set_option('display.width', 1000)"
   ]
  },
  {
   "attachments": {},
   "cell_type": "markdown",
   "metadata": {},
   "source": [
    "# Get Data"
   ]
  },
  {
   "cell_type": "code",
   "execution_count": 30,
   "metadata": {},
   "outputs": [],
   "source": [
    "df_original = pd.read_parquet('../data/bronze/parquet-data/2022_LoL_esports_match_data_from_OraclesElixir.parquet')"
   ]
  },
  {
   "attachments": {},
   "cell_type": "markdown",
   "metadata": {},
   "source": [
    "# Normalize table"
   ]
  },
  {
   "attachments": {},
   "cell_type": "markdown",
   "metadata": {},
   "source": [
    "## Games"
   ]
  },
  {
   "cell_type": "code",
   "execution_count": 11,
   "metadata": {},
   "outputs": [],
   "source": [
    "games_cols = ['gameid', 'date', 'league', 'year', 'split', 'playoffs', 'patch', 'gamelength']\n",
    "df_games = df_original[games_cols].drop_duplicates().reset_index(drop=True)"
   ]
  },
  {
   "attachments": {},
   "cell_type": "markdown",
   "metadata": {},
   "source": [
    "## Teams"
   ]
  },
  {
   "cell_type": "code",
   "execution_count": 12,
   "metadata": {},
   "outputs": [],
   "source": [
    "teams_cols = ['teamid', 'teamname']\n",
    "df_teams = df_original[teams_cols].drop_duplicates().reset_index(drop=True)"
   ]
  },
  {
   "attachments": {},
   "cell_type": "markdown",
   "metadata": {},
   "source": [
    "## Players"
   ]
  },
  {
   "cell_type": "code",
   "execution_count": 13,
   "metadata": {},
   "outputs": [],
   "source": [
    "players_cols = ['playerid', 'playername']\n",
    "df_players = df_original[players_cols].drop_duplicates().reset_index(drop=True)"
   ]
  },
  {
   "attachments": {},
   "cell_type": "markdown",
   "metadata": {},
   "source": [
    "## Participants"
   ]
  },
  {
   "cell_type": "code",
   "execution_count": 14,
   "metadata": {},
   "outputs": [],
   "source": [
    "participants_cols = ['participantid', 'gameid', 'teamid', 'playerid', 'side', 'position', 'champion']\n",
    "df_participants = df_original[participants_cols].drop_duplicates().reset_index(drop=True)"
   ]
  },
  {
   "attachments": {},
   "cell_type": "markdown",
   "metadata": {},
   "source": [
    "## Bans"
   ]
  },
  {
   "cell_type": "code",
   "execution_count": 15,
   "metadata": {},
   "outputs": [],
   "source": [
    "bans_cols = ['gameid', 'teamid', 'ban1', 'ban2', 'ban3', 'ban4', 'ban5']\n",
    "df_bans = df_original[bans_cols].drop_duplicates().reset_index(drop=True)"
   ]
  },
  {
   "attachments": {},
   "cell_type": "markdown",
   "metadata": {},
   "source": [
    "## GameStats"
   ]
  },
  {
   "cell_type": "code",
   "execution_count": 16,
   "metadata": {},
   "outputs": [],
   "source": [
    "gamestats_cols = ['gameid', 'teamid', 'playerid', 'teamkills', 'teamdeaths', 'firstblood', 'firstdragon', 'firstherald',\n",
    "                 'inhibitors', 'opp_inhibitors', 'totalgold', 'earnedgold', 'earned gpm', 'earnedgoldshare', 'goldspent', \n",
    "                  'firstbaron', 'firsttower', 'firstmidtower', 'turretplates', 'opp_turretplates', 'firsttothreetowers', 'team kpm', 'ckpm', 'result']\n",
    "df_gamestats = df_original[gamestats_cols].drop_duplicates().reset_index(drop=True)"
   ]
  },
  {
   "attachments": {},
   "cell_type": "markdown",
   "metadata": {},
   "source": [
    "## PlayerStats"
   ]
  },
  {
   "cell_type": "code",
   "execution_count": 17,
   "metadata": {},
   "outputs": [],
   "source": [
    "playerstats_cols = ['gameid', 'participantid', 'playerid', 'kills', 'deaths', 'assists', 'doublekills', 'triplekills', 'quadrakills',\n",
    "                    'pentakills', 'damagetochampions', 'damageshare', 'damagetakenperminute', 'damagemitigatedperminute', 'wardsplaced',\n",
    "                    'wpm', 'wardskilled', 'controlwardsbought', 'visionscore']\n",
    "df_playerstats = df_original[playerstats_cols].drop_duplicates().reset_index(drop=True)"
   ]
  },
  {
   "attachments": {},
   "cell_type": "markdown",
   "metadata": {},
   "source": [
    "## GoldandXPStats"
   ]
  },
  {
   "cell_type": "code",
   "execution_count": 18,
   "metadata": {},
   "outputs": [],
   "source": [
    "goldandxpstats_cols = ['gameid', 'playerid', 'participantid', 'goldat10', 'xpat10', 'csat10', 'csdiffat10', 'golddiffat10', 'goldat15',\n",
    "                    'xpat15', 'csat15', 'csdiffat15', 'golddiffat15', 'killsat10', 'assistsat10', 'deathsat10',\n",
    "                    'opp_killsat10', 'opp_assistsat10', 'opp_deathsat10', 'killsat15', 'assistsat15', 'deathsat15',\n",
    "                    'opp_killsat15', 'opp_assistsat15', 'opp_deathsat15']\n",
    "df_goldandxpstats = df_original[goldandxpstats_cols].drop_duplicates().reset_index(drop=True)"
   ]
  },
  {
   "attachments": {},
   "cell_type": "markdown",
   "metadata": {},
   "source": [
    "## Dragons"
   ]
  },
  {
   "cell_type": "code",
   "execution_count": 19,
   "metadata": {},
   "outputs": [],
   "source": [
    "dragons_cols = ['gameid', 'teamid', 'dragons', 'opp_dragons', 'elementaldrakes', 'opp_elementaldrakes',\n",
    "                'infernals', 'mountains', 'clouds', 'oceans', 'chemtechs', 'hextechs', 'dragons (type unknown)',\n",
    "                'elders', 'opp_elders']\n",
    "df_dragons = df_original[dragons_cols].drop_duplicates().reset_index(drop=True)"
   ]
  },
  {
   "attachments": {},
   "cell_type": "markdown",
   "metadata": {},
   "source": [
    "## Heralds"
   ]
  },
  {
   "cell_type": "code",
   "execution_count": 20,
   "metadata": {},
   "outputs": [],
   "source": [
    "heralds_cols = ['gameid', 'teamid', 'firstherald', 'heralds', 'opp_heralds']\n",
    "df_heralds = df_original[heralds_cols].drop_duplicates().reset_index(drop=True)"
   ]
  },
  {
   "attachments": {},
   "cell_type": "markdown",
   "metadata": {},
   "source": [
    "## Barons"
   ]
  },
  {
   "cell_type": "code",
   "execution_count": 21,
   "metadata": {},
   "outputs": [],
   "source": [
    "barons_cols = ['gameid', 'teamid', 'firstbaron', 'barons', 'opp_barons']\n",
    "df_barons = df_original[barons_cols].drop_duplicates().reset_index(drop=True)"
   ]
  },
  {
   "attachments": {},
   "cell_type": "markdown",
   "metadata": {},
   "source": [
    "# Save the Data"
   ]
  },
  {
   "cell_type": "code",
   "execution_count": 22,
   "metadata": {},
   "outputs": [],
   "source": [
    "# define the path to the folder\n",
    "folder_path = '../data/silver/2022/'\n",
    "\n",
    "# create the golder if it doesn't exist\n",
    "if not os.path.exists(folder_path):\n",
    "    os.makedirs(folder_path)\n",
    "    \n",
    "# Save the tables as Parquet files in the folder\n",
    "\n",
    "df_games.to_parquet(os.path.join(folder_path, 'dim_games_2022.parquet'), index=False)\n",
    "df_teams.to_parquet(os.path.join(folder_path, 'dim_teams_2022.parquet'), index=False)\n",
    "df_players.to_parquet(os.path.join(folder_path, 'dim_players_2022.parquet'), index=False)\n",
    "df_participants.to_parquet(os.path.join(folder_path, 'dim_participants_2022.parquet'), index=False)\n",
    "df_bans.to_parquet(os.path.join(folder_path, 'dim_bans_2022.parquet'), index=False)\n",
    "df_gamestats.to_parquet(os.path.join(folder_path, 'fact_gamestats_2022.parquet'), index=False)\n",
    "df_playerstats.to_parquet(os.path.join(folder_path, 'fact_playerstats_2022.parquet'), index=False)\n",
    "df_goldandxpstats.to_parquet(os.path.join(folder_path, 'fact_goldandxpstats_2022.parquet'), index=False)\n",
    "df_dragons.to_parquet(os.path.join(folder_path, 'dim_dragons_2022.parquet'), index=False)\n",
    "df_barons.to_parquet(os.path.join(folder_path, 'dim_barons_2022.parquet'), index=False)"
   ]
  }
 ],
 "metadata": {
  "kernelspec": {
   "display_name": ".venv",
   "language": "python",
   "name": "python3"
  },
  "language_info": {
   "codemirror_mode": {
    "name": "ipython",
    "version": 3
   },
   "file_extension": ".py",
   "mimetype": "text/x-python",
   "name": "python",
   "nbconvert_exporter": "python",
   "pygments_lexer": "ipython3",
   "version": "3.10.11"
  },
  "orig_nbformat": 4
 },
 "nbformat": 4,
 "nbformat_minor": 2
}
